{
 "cells": [
  {
   "cell_type": "markdown",
   "id": "6fee741f-8cba-42f0-959f-1120bbccebe3",
   "metadata": {},
   "source": []
  },
  {
   "cell_type": "code",
   "execution_count": null,
   "id": "9fd60508-14c3-4213-9004-26e27607a62e",
   "metadata": {},
   "outputs": [],
   "source": [
    "1- Write a program that accepts a string from user. Your program should count and display number of\n",
    "vowels in that string."
   ]
  },
  {
   "cell_type": "code",
   "execution_count": 9,
   "id": "d90b1bc3-c8a4-4534-afbb-ecac67523627",
   "metadata": {},
   "outputs": [
    {
     "name": "stdin",
     "output_type": "stream",
     "text": [
      "Enter a string:  kastwepioutqweugdflz.vnxc,.bmv,cv,zx/.vsdz.d,fs\n"
     ]
    },
    {
     "name": "stdout",
     "output_type": "stream",
     "text": [
      "Number of vowels: 7\n"
     ]
    }
   ],
   "source": [
    "string = input(\"Enter a string: \")\n",
    "vowels = \"aeiouAEIOU\"\n",
    "count = 0\n",
    "for char in string:\n",
    "    if char in vowels:\n",
    "        count += 1\n",
    "print(\"Number of vowels:\", count)"
   ]
  },
  {
   "cell_type": "code",
   "execution_count": null,
   "id": "bc4cc927-a79a-4d9a-bda7-bf8bcc5652a6",
   "metadata": {},
   "outputs": [],
   "source": [
    "2. Write a program that reads a string from keyboard and display:\n",
    "* The number of uppercase letters in the string\n",
    "* The number of lowercase letters in the string\n",
    "* The number of digits in the string\n",
    "* The number of whitespace characters in the string"
   ]
  },
  {
   "cell_type": "code",
   "execution_count": 29,
   "id": "8e54aca1-aec7-4a1f-94c9-37f66551b4cd",
   "metadata": {},
   "outputs": [
    {
     "name": "stdin",
     "output_type": "stream",
     "text": [
      "Enter a string:  asfgdasHHDASFIA238487 @ /adsf\\asfa,saf/aer\n"
     ]
    },
    {
     "name": "stdout",
     "output_type": "stream",
     "text": [
      "Number of uppercase letters: 8\n",
      "Number of lowercase letters: 21\n",
      "Number of digits: 6\n",
      "Number of whitespace characters: 2\n"
     ]
    }
   ],
   "source": [
    "def count_characters(input_string):\n",
    "    uppercase_count = 0\n",
    "    lowercase_count = 0\n",
    "    digit_count = 0\n",
    "    whitespace_count = 0\n",
    "    \n",
    "   \n",
    "    for char in input_string:\n",
    "        if char.isupper():\n",
    "            uppercase_count += 1\n",
    "        elif char.islower():\n",
    "            lowercase_count += 1\n",
    "        elif char.isdigit():\n",
    "            digit_count += 1\n",
    "        elif char.isspace():\n",
    "            whitespace_count += 1\n",
    "    \n",
    "    print(f\"Number of uppercase letters: {uppercase_count}\")\n",
    "    print(f\"Number of lowercase letters: {lowercase_count}\")\n",
    "    print(f\"Number of digits: {digit_count}\")\n",
    "    print(f\"Number of whitespace characters: {whitespace_count}\")\n",
    "\n",
    "input_string = input(\"Enter a string: \")\n",
    "\n",
    "count_characters(input_string)"
   ]
  },
  {
   "cell_type": "code",
   "execution_count": null,
   "id": "c3424373-f239-4347-ad5c-042886366730",
   "metadata": {},
   "outputs": [],
   "source": [
    "3-Write a Python program that accepts a string from user. Your program should create and display a\n",
    "new string where the first and last characters have been exchanged.\n",
    "For example if the user enters the string 'HELLO' then new string would be 'OELLH'"
   ]
  },
  {
   "cell_type": "code",
   "execution_count": 30,
   "id": "59810718-0420-4e85-a744-151496245dad",
   "metadata": {},
   "outputs": [
    {
     "name": "stdin",
     "output_type": "stream",
     "text": [
      "Enter a string:  fsdjlvhzsdljvsSADFIwe\n"
     ]
    },
    {
     "name": "stdout",
     "output_type": "stream",
     "text": [
      "The new string with first and last characters exchanged is: esdjlvhzsdljvsSADFIwf\n"
     ]
    }
   ],
   "source": [
    "def exchange_first_last_char(input_string):\n",
    "    if len(input_string) <= 1:\n",
    "        return input_string\n",
    "    else:\n",
    "        return input_string[-1] + input_string[1:-1] + input_string[0]\n",
    "user_input = input(\"Enter a string: \")\n",
    "new_string = exchange_first_last_char(user_input)\n",
    "print(\"The new string with first and last characters exchanged is:\", new_string)"
   ]
  },
  {
   "cell_type": "code",
   "execution_count": null,
   "id": "718f1cab-d403-4251-a4b5-6e5647b4be9e",
   "metadata": {},
   "outputs": [],
   "source": [
    "4. Write a Python program that accepts a string from user. Your program should create a new string in\n",
    "reverse of first string and display it.\n",
    "For example if the user enters the string 'EXAM' then new string would be 'MAXE'\n"
   ]
  },
  {
   "cell_type": "code",
   "execution_count": 31,
   "id": "aceefeaa-ca05-4eea-a13e-3dcd42da0bed",
   "metadata": {},
   "outputs": [
    {
     "name": "stdin",
     "output_type": "stream",
     "text": [
      "Enter a string:  665564asfjhfoduhao\n"
     ]
    },
    {
     "name": "stdout",
     "output_type": "stream",
     "text": [
      "The reversed string is: oahudofhjfsa465566\n"
     ]
    }
   ],
   "source": [
    "def reverse_string(input_string):\n",
    "    return input_string[::-1]\n",
    "user_input = input(\"Enter a string: \")\n",
    "reversed_string = reverse_string(user_input)\n",
    "print(\"The reversed string is:\", reversed_string)"
   ]
  },
  {
   "cell_type": "code",
   "execution_count": null,
   "id": "9081745f-2916-4763-8c61-0226397dd815",
   "metadata": {},
   "outputs": [],
   "source": [
    "5. Write a Python program that accepts a string from user. Your program should create a new string by\n",
    "shifting one position to left.\n",
    "For example if the user enters the string 'examination 2021' then new string would be 'xamination\n",
    "2021e'"
   ]
  },
  {
   "cell_type": "code",
   "execution_count": 22,
   "id": "26afd5a6-792c-43e8-80e7-cb9d4ee50a16",
   "metadata": {},
   "outputs": [
    {
     "name": "stdin",
     "output_type": "stream",
     "text": [
      "Enter a string:  Examintion 2021\n"
     ]
    },
    {
     "name": "stdout",
     "output_type": "stream",
     "text": [
      "The shifted string is: xamintion 2021E\n"
     ]
    }
   ],
   "source": [
    "def shift_left(input_string):\n",
    "    if len(input_string) <= 1:\n",
    "        return input_string\n",
    "    else:\n",
    "        return input_string[1:] + input_string[0]\n",
    "user_input = input(\"Enter a string: \")\n",
    "shifted_string = shift_left(user_input)\n",
    "\n",
    "print(\"The shifted string is:\", shifted_string)"
   ]
  },
  {
   "cell_type": "code",
   "execution_count": null,
   "id": "ddb6344b-b0f6-4f63-a973-49115422d139",
   "metadata": {},
   "outputs": [],
   "source": [
    "6. Write a program that asks the user to input his name and print its initials. Assuming that the user\n",
    "always types first name, middle name and last name and does not include any unnecessary spaces.\n",
    "For example, if the user enters Ajay Kumar Garg the program should display A. K. G.\n",
    "Note:Don't use split() method"
   ]
  },
  {
   "cell_type": "code",
   "execution_count": 33,
   "id": "4e8fc506-d362-4273-9e12-a9fa5a812cc6",
   "metadata": {},
   "outputs": [
    {
     "name": "stdin",
     "output_type": "stream",
     "text": [
      "Enter your full name (first name, middle name, and last name):  sharib hameed CDE\n"
     ]
    },
    {
     "name": "stdout",
     "output_type": "stream",
     "text": [
      "Initials: S. H. C. \n"
     ]
    }
   ],
   "source": [
    "def get_initials(name):\n",
    "    initials = \"\"\n",
    "    \n",
    "    initials += name[0].upper() + \". \"\n",
    "    \n",
    "    for i in range(1, len(name)):\n",
    "        if name[i] == \" \":\n",
    "            initials += name[i + 1].upper() + \". \"\n",
    "\n",
    "    return initials\n",
    "full_name = input(\"Enter your full name (first name, middle name, and last name): \")\n",
    "\n",
    "# Get and print the initials\n",
    "initials = get_initials(full_name)\n",
    "print(\"Initials:\", initials)\n"
   ]
  },
  {
   "cell_type": "code",
   "execution_count": null,
   "id": "769fa0b0-2d31-489a-9fc5-acab219d52b1",
   "metadata": {},
   "outputs": [],
   "source": [
    "7. A palindrome is a string that reads the same backward as forward. For example, the words dad,\n",
    "madam and radar are all palindromes. Write a programs that determines whether the string is a\n",
    "palindrome.\n",
    "Note: do not use reverse() method"
   ]
  },
  {
   "cell_type": "code",
   "execution_count": 34,
   "id": "267cd845-d66b-460b-809f-b705427a39b6",
   "metadata": {},
   "outputs": [
    {
     "name": "stdin",
     "output_type": "stream",
     "text": [
      "Enter a string:  sadhfjaskoi\n"
     ]
    },
    {
     "name": "stdout",
     "output_type": "stream",
     "text": [
      "'sadhfjaskoi' is not a palindrome.\n"
     ]
    }
   ],
   "source": [
    "\n",
    "def is_palindrome(input_string):\n",
    "    cleaned_string = input_string.replace(\" \", \"\").lower()\n",
    "    length = len(cleaned_string)\n",
    "    \n",
    "    for i in range(length // 2):\n",
    "        if cleaned_string[i] != cleaned_string[length - 1 - i]:\n",
    "            return False\n",
    "    return True\n",
    "user_input = input(\"Enter a string: \")\n",
    "\n",
    "if is_palindrome(user_input):\n",
    "    print(f\"'{user_input}' is a palindrome.\")\n",
    "else:\n",
    "    print(f\"'{user_input}' is not a palindrome.\")\n",
    "    "
   ]
  },
  {
   "cell_type": "code",
   "execution_count": null,
   "id": "f6c64daa-2298-4c5f-883c-f4d0a127e67a",
   "metadata": {},
   "outputs": [],
   "source": [
    "8. Write a program that display following output:\n",
    "SHIFT\n",
    "HIFTS\n",
    "IFTSH\n",
    "FTSHI\n",
    "TSHIF\n",
    "SHIFT\n"
   ]
  },
  {
   "cell_type": "code",
   "execution_count": 36,
   "id": "8b8cc6d5-11fc-44c4-b5d7-3f46e9f72fe8",
   "metadata": {},
   "outputs": [
    {
     "name": "stdout",
     "output_type": "stream",
     "text": [
      "SHIFT\n",
      "HIFTS\n",
      "IFTSH\n",
      "FTSHI\n",
      "TSHIF\n"
     ]
    }
   ],
   "source": [
    "def rotate_string(s):\n",
    "    n = len(s)\n",
    "    for i in range(n):\n",
    "        rotated = s[i:] + s[:i]\n",
    "        print(rotated)\n",
    "\n",
    "input_string = \"SHIFT\"\n",
    "\n",
    "rotate_string(input_string)"
   ]
  },
  {
   "cell_type": "code",
   "execution_count": null,
   "id": "df93671c-e782-4d06-a996-6ab8ec438aea",
   "metadata": {},
   "outputs": [],
   "source": [
    "9. Write a program in python that accepts a string to setup a passwords. Your entered password must\n",
    "meet the following requirements:The password must be at least eight characters long.\n",
    "It must contain at least one uppercase letter.\n",
    "It must contain at least one lowercase letter.\n",
    "It must contain at least one numeric digit.\n",
    "Your program should should perform this validation."
   ]
  },
  {
   "cell_type": "code",
   "execution_count": 37,
   "id": "46e1e901-da82-403d-8a9f-037718ca9694",
   "metadata": {},
   "outputs": [
    {
     "name": "stdin",
     "output_type": "stream",
     "text": [
      "Enter a password:  afksdklfsadlj@#$2344ASFD u\n"
     ]
    },
    {
     "name": "stdout",
     "output_type": "stream",
     "text": [
      "Password is valid.\n"
     ]
    }
   ],
   "source": [
    "def validate_password(password):\n",
    "    if len(password) < 8:\n",
    "        return False, \"Password must be at least eight characters long.\"\n",
    "    \n",
    "    if not any(char.isupper() for char in password):\n",
    "        return False, \"Password must contain at least one uppercase letter.\"\n",
    "    \n",
    "    if not any(char.islower() for char in password):\n",
    "        return False, \"Password must contain at least one lowercase letter.\"\n",
    "    \n",
    "    if not any(char.isdigit() for char in password):\n",
    "        return False, \"Password must contain at least one numeric digit.\"\n",
    "    return True, \"Password is valid.\"\n",
    "\n",
    "password = input(\"Enter a password: \")\n",
    "\n",
    "is_valid, message = validate_password(password)\n",
    "\n",
    "print(message)"
   ]
  },
  {
   "cell_type": "code",
   "execution_count": null,
   "id": "e301836e-9a14-4bc2-b0b2-c0ddc13d9447",
   "metadata": {},
   "outputs": [],
   "source": []
  },
  {
   "cell_type": "code",
   "execution_count": null,
   "id": "1872a6c4-03d9-4d36-88c5-bc6ab63dee8f",
   "metadata": {},
   "outputs": [],
   "source": []
  },
  {
   "cell_type": "code",
   "execution_count": null,
   "id": "02d3834a-75b5-40a3-b185-989451b16bf9",
   "metadata": {},
   "outputs": [],
   "source": []
  }
 ],
 "metadata": {
  "kernelspec": {
   "display_name": "Python 3 (ipykernel)",
   "language": "python",
   "name": "python3"
  },
  "language_info": {
   "codemirror_mode": {
    "name": "ipython",
    "version": 3
   },
   "file_extension": ".py",
   "mimetype": "text/x-python",
   "name": "python",
   "nbconvert_exporter": "python",
   "pygments_lexer": "ipython3",
   "version": "3.12.4"
  }
 },
 "nbformat": 4,
 "nbformat_minor": 5
}
