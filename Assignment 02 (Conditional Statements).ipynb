{
 "cells": [
  {
   "cell_type": "markdown",
   "metadata": {},
   "source": [
    "1) A company decided to give bonus of 5% to employee if his/her year of service is more than 5 years.\n",
    "Ask user for their salary and year of service and print the net bonus amount."
   ]
  },
  {
   "cell_type": "code",
   "execution_count": 91,
   "metadata": {},
   "outputs": [
    {
     "name": "stdin",
     "output_type": "stream",
     "text": [
      "Enter your salary:  25000\n",
      "Enter your years of service:  6\n"
     ]
    },
    {
     "name": "stdout",
     "output_type": "stream",
     "text": [
      "Congratulations! You are eligible for a bonus of $1250.00.\n"
     ]
    }
   ],
   "source": [
    "salary = float(input(\"Enter your salary: \"))\n",
    "years_of_service = int(input(\"Enter your years of service: \"))\n",
    "\n",
    "if years_of_service > 5:\n",
    "    bonus = 0.05 * salary\n",
    "    print(f\"Congratulations! You are eligible for a bonus of ${bonus:.2f}.\")\n",
    "else:\n",
    "    print(\"Sorry, you are not eligible for a bonus.\")"
   ]
  },
  {
   "cell_type": "markdown",
   "metadata": {},
   "source": [
    "\n",
    "2) Write a program to check whether a person is eligible for voting or not. (accept age from user) if age is greater than 17 eligible otherwise not eligible"
   ]
  },
  {
   "cell_type": "code",
   "execution_count": 92,
   "metadata": {},
   "outputs": [
    {
     "name": "stdin",
     "output_type": "stream",
     "text": [
      "Enter your age: 24\n"
     ]
    },
    {
     "name": "stdout",
     "output_type": "stream",
     "text": [
      "Your are Eligible for voting !!\n"
     ]
    }
   ],
   "source": [
    "age =int(input(\"Enter your age:\"))\n",
    "if age > 17 :\n",
    "    print(\"Your are Eligible for voting !!\")\n",
    "else:\n",
    "    print(\"You are not eligible for voting !!\")"
   ]
  },
  {
   "cell_type": "markdown",
   "metadata": {},
   "source": [
    "\n",
    "3) Write a program to check whether a number entered by user is even or odd."
   ]
  },
  {
   "cell_type": "code",
   "execution_count": 93,
   "metadata": {},
   "outputs": [
    {
     "name": "stdin",
     "output_type": "stream",
     "text": [
      "Enter a number:  24\n"
     ]
    },
    {
     "name": "stdout",
     "output_type": "stream",
     "text": [
      "24 is an even number.\n"
     ]
    }
   ],
   "source": [
    "number = int(input(\"Enter a number: \"))\n",
    "\n",
    "if number % 2 == 0:\n",
    "    print(f\"{number} is an even number.\")\n",
    "else:\n",
    "    print(f\"{number} is an odd number.\")\n"
   ]
  },
  {
   "cell_type": "markdown",
   "metadata": {},
   "source": [
    "4) Write a program to check whether a number is divisible by 7 or not.\n",
    "Show Answer"
   ]
  },
  {
   "cell_type": "code",
   "execution_count": 94,
   "metadata": {},
   "outputs": [
    {
     "name": "stdin",
     "output_type": "stream",
     "text": [
      "Enter the number: 21\n"
     ]
    },
    {
     "name": "stdout",
     "output_type": "stream",
     "text": [
      "21 is divide by 7\n"
     ]
    }
   ],
   "source": [
    "number= int(input(\"Enter the number:\"))\n",
    "if number % 7==0 :\n",
    "    print(f\"{number} is divide by 7\")\n",
    "else:\n",
    "    print(f\"{number} is not divisible by 7\")\n",
    "    "
   ]
  },
  {
   "cell_type": "markdown",
   "metadata": {},
   "source": [
    "5) Write a program to display \n",
    "\"Hello\" if a number entered by user is a multiple of five , otherwise print \"Bye\"."
   ]
  },
  {
   "cell_type": "code",
   "execution_count": 37,
   "metadata": {},
   "outputs": [
    {
     "name": "stdin",
     "output_type": "stream",
     "text": [
      "Enter the number:  25\n"
     ]
    },
    {
     "name": "stdout",
     "output_type": "stream",
     "text": [
      "Hello\n"
     ]
    }
   ],
   "source": [
    "number = int(input(\"Enter the number: \"))\n",
    "if number % 5 == 0 :\n",
    "    print(\"Hello\")\n",
    "else:\n",
    "     print(\"Bye\")\n",
    "     \n",
    "             "
   ]
  },
  {
   "cell_type": "markdown",
   "metadata": {},
   "source": [
    "7) Write a program to display the last digit of a number.\n"
   ]
  },
  {
   "cell_type": "code",
   "execution_count": 45,
   "metadata": {},
   "outputs": [
    {
     "name": "stdin",
     "output_type": "stream",
     "text": [
      "Enter the Number:  245\n"
     ]
    },
    {
     "name": "stdout",
     "output_type": "stream",
     "text": [
      "The last digit of 245 is 5.\n"
     ]
    }
   ],
   "source": [
    "number = int(input(\"Enter the Number: \"))\n",
    "last_digit = number % 10\n",
    "# For last two digits code will be \n",
    "#last_digit = number % 100\n",
    "# For last three digits code will be  \n",
    "# last_digit = number % 1000\n",
    "print(f\"The last digit of {number} is {last_digit}.\")\n"
   ]
  },
  {
   "cell_type": "markdown",
   "metadata": {},
   "source": [
    "9) Take values of length and breadth of a rectangle from user and print if it is square or rectangle."
   ]
  },
  {
   "cell_type": "code",
   "execution_count": 53,
   "metadata": {},
   "outputs": [
    {
     "name": "stdin",
     "output_type": "stream",
     "text": [
      "Enter the Number 14.53\n",
      "Enter the Number 14.25\n"
     ]
    },
    {
     "name": "stdout",
     "output_type": "stream",
     "text": [
      "It is a rectangle\n"
     ]
    }
   ],
   "source": [
    "length =float(input(\"Enter the Number\"))\n",
    "breadth =float(input(\"Enter the Number\"))\n",
    "if length == breadth :\n",
    "    print(\"It is a square\")\n",
    "else: \n",
    "    print(\"It is a rectangle\")\n"
   ]
  },
  {
   "cell_type": "markdown",
   "metadata": {},
   "source": [
    "10) Take two int values from user and print greatest among them."
   ]
  },
  {
   "cell_type": "code",
   "execution_count": 79,
   "metadata": {},
   "outputs": [
    {
     "name": "stdin",
     "output_type": "stream",
     "text": [
      "Enter the Number : 14.5\n",
      "Enter the Number : 14.5\n"
     ]
    },
    {
     "name": "stdout",
     "output_type": "stream",
     "text": [
      "14.5 and  14.5 are both equal\n",
      "Both Numbers are equal\n"
     ]
    }
   ],
   "source": [
    "x= float(input(\"Enter the Number :\"))\n",
    "y= float(input(\"Enter the Number :\")) \n",
    "# 1st option\n",
    "if   x > y :\n",
    "   print(f\"{x} is greater than {y}\")\n",
    "elif  y > x: \n",
    "    print(f\"{y} is greater than {x}\")\n",
    "else :\n",
    "     print(f\"{x} and  {y} are both equal\")\n",
    "\n",
    "# 2nd option\n",
    "if x > y:\n",
    "    print(f\" The Greatest number is : {x}\")\n",
    "elif x < y : \n",
    "     print(f\"The Greatest number is:  {y}\")\n",
    "else:\n",
    "    print(\"Both Numbers are equal\")"
   ]
  },
  {
   "cell_type": "markdown",
   "metadata": {},
   "source": [
    "11) A shop will give discount of 10% if the cost of purchased quantity is more than 1000.\n",
    "Ask user for quantity\n",
    "Suppose, one unit will cost 100.\n",
    "Judge and print total cost for user."
   ]
  },
  {
   "cell_type": "code",
   "execution_count": 95,
   "metadata": {},
   "outputs": [
    {
     "name": "stdin",
     "output_type": "stream",
     "text": [
      "Enter the Quantity :  124\n"
     ]
    },
    {
     "name": "stdout",
     "output_type": "stream",
     "text": [
      " the total_cost after discount is 11160.0\n"
     ]
    }
   ],
   "source": [
    "Quantity = float(input(\"Enter the Quantity : \"))\n",
    "unit_price = 100\n",
    "total_cost= unit_price * Quantity\n",
    "\n",
    "if total_cost > 1000 : \n",
    "    discount = 0.1 * total_cost\n",
    "    total_cost -= discount \n",
    "    print(f\" the total_cost after discount is {total_cost}\")\n",
    "else:\n",
    "    print(f\" Total cost without discount :{total_cost}\")\n"
   ]
  },
  {
   "cell_type": "markdown",
   "metadata": {},
   "source": [
    "12) A school has following rules for grading system:\n",
    "\n",
    "a. Below 25 - F\n",
    "\n",
    "b. 25 to 45 - E\n",
    "\n",
    "c. 45 to 50 - D\n",
    "\n",
    "d. 50 to 60 - C\n",
    "\n",
    "e. 60 to 80 - B\n",
    "\n",
    "f. Above 80 - A\n",
    "\n",
    "Ask user to enter marks and print the corresponding grade."
   ]
  },
  {
   "cell_type": "code",
   "execution_count": 122,
   "metadata": {},
   "outputs": [
    {
     "name": "stdin",
     "output_type": "stream",
     "text": [
      "Enter your marks:  124\n"
     ]
    },
    {
     "name": "stdout",
     "output_type": "stream",
     "text": [
      "Your grade is: A\n"
     ]
    }
   ],
   "source": [
    "marks = int(input(\"Enter your marks: \"))\n",
    "\n",
    "if marks < 25:\n",
    "    grade = \"F\"\n",
    "elif 25 <= marks < 45:\n",
    "    grade = \"E\"\n",
    "elif 45 <= marks < 50:\n",
    "    grade = \"D\"\n",
    "elif 50 <= marks < 60:\n",
    "    grade = \"C\"\n",
    "elif 60 <= marks < 80:\n",
    "    grade = \"B\"\n",
    "else:  # marks > 80\n",
    "    grade = \"A\"\n",
    "print(f\"Your grade is: {grade}\")"
   ]
  },
  {
   "cell_type": "markdown",
   "metadata": {},
   "source": [
    "14)A student will not be allowed to sit in exam if his/her attendence is less than 75%.\n",
    "\n",
    "Take following input from user\n",
    "\n",
    "Number of classes held\n",
    "\n",
    "Number of classes attended.\n",
    "\n",
    "And print\n",
    "\n",
    "percentage of class attended\n",
    "\n",
    "Is student is allowed to sit in exam or not.\n"
   ]
  },
  {
   "cell_type": "code",
   "execution_count": 123,
   "metadata": {},
   "outputs": [
    {
     "name": "stdin",
     "output_type": "stream",
     "text": [
      "Enter the number of classes held:  48\n",
      "Enter the number of classes attended:  12\n"
     ]
    },
    {
     "name": "stdout",
     "output_type": "stream",
     "text": [
      "Your attendance percentage is: 25.00%\n",
      "You are not allowed to sit in the exam due to low attendance.\n"
     ]
    }
   ],
   "source": [
    "\n",
    "classes_held = int(input(\"Enter the number of classes held: \"))\n",
    "classes_attended = int(input(\"Enter the number of classes attended: \"))\n",
    "\n",
    "attendance_percentage = (classes_attended / classes_held) * 100\n",
    "\n",
    "print(f\"Your attendance percentage is: {attendance_percentage:.2f}%\")\n",
    "\n",
    "if attendance_percentage >= 75:\n",
    "    print(\"You are allowed to sit in the exam.\")\n",
    "else:\n",
    "    print(\"You are not allowed to sit in the exam due to low attendance.\")"
   ]
  },
  {
   "cell_type": "markdown",
   "metadata": {},
   "source": [
    "15) Modify the above question to allow student to sit if he/she has medical cause. Ask user if he/she has medical cause or not ( 'Y' or 'N' ) and print accordingly."
   ]
  },
  {
   "cell_type": "code",
   "execution_count": 125,
   "metadata": {},
   "outputs": [
    {
     "name": "stdin",
     "output_type": "stream",
     "text": [
      "Enter the number of classes held:  58\n",
      "Enter the number of classes attended:  52\n",
      "Do you have a medical cause? (Y/N):  h\n"
     ]
    },
    {
     "name": "stdout",
     "output_type": "stream",
     "text": [
      "Your attendance percentage is: 89.66%\n",
      "You are allowed to sit in the exam.\n"
     ]
    }
   ],
   "source": [
    "classes_held = int(input(\"Enter the number of classes held: \"))\n",
    "classes_attended = int(input(\"Enter the number of classes attended: \"))\n",
    "\n",
    "attendance_percentage = (classes_attended / classes_held) * 100\n",
    "medical_cause = input(\"Do you have a medical cause? (Y/N): \").strip().upper()\n",
    "print(f\"Your attendance percentage is: {attendance_percentage:.2f}%\")\n",
    "if attendance_percentage >= 75:\n",
    "    print(\"You are allowed to sit in the exam.\")\n",
    "else:\n",
    "    print(\"You are not allowed to sit in the exam due to low attendance.\")\n",
    "\n"
   ]
  },
  {
   "cell_type": "markdown",
   "metadata": {},
   "source": [
    "16) Write a program to check if a year is leap year or not.\n",
    "\n",
    "If a year is divisible by 4 then it is leap year but if the year is century year like 2000, 1900, 2100 then it must be divisible by 400."
   ]
  },
  {
   "cell_type": "code",
   "execution_count": 137,
   "metadata": {},
   "outputs": [
    {
     "name": "stdin",
     "output_type": "stream",
     "text": [
      "Enter the Year : 1500\n"
     ]
    },
    {
     "name": "stdout",
     "output_type": "stream",
     "text": [
      "This is a leap Year ! :\n"
     ]
    }
   ],
   "source": [
    "year =int(input(\"Enter the Year :\"))\n",
    "if year % 4  == 0 :  \n",
    "    print(f\"This is a leap Year ! :\")\n",
    "else: \n",
    "     print(\"This is not a leap Year ! : \")"
   ]
  },
  {
   "cell_type": "markdown",
   "metadata": {},
   "source": [
    "17) Ask user to enter age, gender ( M or F ), marital status ( Y or N ) and then using following rules print their place of service.\n",
    "\n",
    "if employee is female, then she will work only in urban areas.\n",
    "\n",
    "if employee is a male and age is in between 20 to 40 then he may work in anywhere\n",
    "\n",
    "if employee is male and age is in between 40 t0 60 then he will work in urban areas only.\n",
    "\n",
    "And any other input of age should print \"ERROR\""
   ]
  },
  {
   "cell_type": "code",
   "execution_count": 22,
   "metadata": {},
   "outputs": [],
   "source": [
    "\n",
    "age = int(input(\"Enter age: \"))\n",
    "gender = input(\"Enter gender (M or F): \").strip().upper()\n",
    "marital_status = input(\"Enter marital status (Y or N): \").strip().upper()\n",
    "\n",
    "if gender == 'F':\n",
    "    print(\"The employee will work in urban areas.\")\n",
    "    \n",
    "elif gender == 'M' and 20 <= age <= 40:\n",
    "    print(\"The employee may work anywhere.\")\n",
    "    \n",
    "elif gender == 'M' and 40 < age <= 60:\n",
    "    print(\"The employee will work in urban areas.\")\n",
    "    \n",
    "else:\n",
    "    print(\"ERROR\")\n"
   ]
  },
  {
   "cell_type": "markdown",
   "metadata": {},
   "source": [
    "6) Write a program to calculate the electricity bill (accept number of unit from user) according to the following criteria :\n",
    "     Unit                                                     Price  \n",
    "uptp 100 units                                             no charge\n",
    "Next 200 units                                              Rs 5 per unit\n",
    "After 200 units                                             Rs 10 per unit\n",
    "(For example if input unit is 350 than total bill amount is Rs.3500\n",
    "(For example if input unit is 97 than total bill amount is Rs.0\n",
    "(For example if input unit is 150 than total bill amount is Rs.750"
   ]
  },
  {
   "cell_type": "code",
   "execution_count": 139,
   "metadata": {},
   "outputs": [
    {
     "name": "stdin",
     "output_type": "stream",
     "text": [
      "Enter the number of units consumed:  8900\n"
     ]
    },
    {
     "name": "stdout",
     "output_type": "stream",
     "text": [
      "Total bill amount: Rs 87000\n"
     ]
    }
   ],
   "source": [
    "units = int(input(\"Enter the number of units consumed: \"))\n",
    "\n",
    "bill = 0\n",
    "\n",
    "if units <= 100:\n",
    "    bill = 0  # No charge for up to 100 units\n",
    "elif 101 <= units <= 300:\n",
    "    bill = (units - 100) * 5  # Rs 5 per unit for units between 101 and 300\n",
    "else:\n",
    "    # Rs 5 per unit for next 200 units and Rs 10 per unit for units above 300\n",
    "    bill = (200 * 5) + ((units - 300) * 10)\n",
    "\n",
    "print(f\"Total bill amount: Rs {bill}\")\n"
   ]
  },
  {
   "cell_type": "markdown",
   "metadata": {},
   "source": [
    "13) Take input of age of 3 people by user and determine oldest and youngest among them."
   ]
  },
  {
   "cell_type": "code",
   "execution_count": 18,
   "metadata": {},
   "outputs": [],
   "source": [
    "# Ask the user to input the ages of three people\n",
    "age1 = int(input(\"Enter the age of the first person: \"))\n",
    "age2 = int(input(\"Enter the age of the second person: \"))\n",
    "age3 = int(input(\"Enter the age of the third person: \"))\n",
    "\n",
    "# Determine the oldest\n",
    "if age1 >= age2 and age1 >= age3:\n",
    "    oldest = age1\n",
    "elif age2 >= age1 and age2 >= age3:\n",
    "    oldest = age2\n",
    "else:\n",
    "    oldest = age3\n",
    "\n",
    "# Determine the youngest\n",
    "if age1 <= age2 and age1 <= age3:\n",
    "    youngest = age1\n",
    "elif age2 <= age1 and age2 <= age3:\n",
    "    youngest = age2\n",
    "else:\n",
    "    youngest = age3\n",
    "\n",
    "# Print the results\n",
    "print(f\"The oldest person is {oldest} years old.\")\n",
    "print(f\"The youngest person is {youngest} years old.\")"
   ]
  }
 ],
 "metadata": {
  "kernelspec": {
   "display_name": "Python 3 (ipykernel)",
   "language": "python",
   "name": "python3"
  },
  "language_info": {
   "codemirror_mode": {
    "name": "ipython",
    "version": 3
   },
   "file_extension": ".py",
   "mimetype": "text/x-python",
   "name": "python",
   "nbconvert_exporter": "python",
   "pygments_lexer": "ipython3",
   "version": "3.12.4"
  }
 },
 "nbformat": 4,
 "nbformat_minor": 4
}
